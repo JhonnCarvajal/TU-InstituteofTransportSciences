{
 "cells": [
  {
   "cell_type": "code",
   "execution_count": 5,
   "metadata": {},
   "outputs": [],
   "source": [
    "from PIL import Image\n",
    "from PIL import ImageChops"
   ]
  },
  {
   "cell_type": "code",
   "execution_count": 32,
   "metadata": {},
   "outputs": [
    {
     "name": "stdout",
     "output_type": "stream",
     "text": [
      "Imagen blanca como el agua\n"
     ]
    }
   ],
   "source": [
    "im = Image.open('tiles2\\AustriaHugeClip_0_0.tif') # Can be many different formats.\n",
    "pix = im.load()\n",
    "\n",
    "clrs = im.getcolors()\n",
    "if(clrs != None):\n",
    "    print(\"Imagen blanca como el agua\")\n",
    "else:\n",
    "    print(\"La imagen contiene data\")"
   ]
  },
  {
   "cell_type": "code",
   "execution_count": 33,
   "metadata": {},
   "outputs": [
    {
     "name": "stdout",
     "output_type": "stream",
     "text": [
      "La imagen contiene data tiles3\\AustriaHugeClip_0_0.tif\n",
      "La imagen contiene data tiles3\\AustriaHugeClip_0_1.tif\n",
      "La imagen contiene data tiles3\\AustriaHugeClip_0_10.tif\n",
      "La imagen contiene data tiles3\\AustriaHugeClip_0_11.tif\n",
      "La imagen contiene data tiles3\\AustriaHugeClip_0_12.tif\n",
      "La imagen contiene data tiles3\\AustriaHugeClip_0_13.tif\n",
      "La imagen contiene data tiles3\\AustriaHugeClip_0_14.tif\n",
      "La imagen contiene data tiles3\\AustriaHugeClip_0_15.tif\n",
      "La imagen contiene data tiles3\\AustriaHugeClip_0_16.tif\n",
      "La imagen contiene data tiles3\\AustriaHugeClip_0_17.tif\n",
      "La imagen contiene data tiles3\\AustriaHugeClip_0_18.tif\n",
      "La imagen contiene data tiles3\\AustriaHugeClip_0_19.tif\n",
      "La imagen contiene data tiles3\\AustriaHugeClip_0_2.tif\n",
      "La imagen contiene data tiles3\\AustriaHugeClip_0_20.tif\n",
      "La imagen contiene data tiles3\\AustriaHugeClip_0_21.tif\n",
      "La imagen contiene data tiles3\\AustriaHugeClip_0_22.tif\n",
      "La imagen contiene data tiles3\\AustriaHugeClip_0_23.tif\n",
      "La imagen contiene data tiles3\\AustriaHugeClip_0_24.tif\n",
      "La imagen contiene data tiles3\\AustriaHugeClip_0_25.tif\n",
      "La imagen contiene data tiles3\\AustriaHugeClip_0_26.tif\n",
      "La imagen contiene data tiles3\\AustriaHugeClip_0_27.tif\n",
      "La imagen contiene data tiles3\\AustriaHugeClip_0_28.tif\n",
      "La imagen contiene data tiles3\\AustriaHugeClip_0_29.tif\n",
      "La imagen contiene data tiles3\\AustriaHugeClip_0_3.tif\n",
      "La imagen contiene data tiles3\\AustriaHugeClip_0_30.tif\n",
      "La imagen contiene data tiles3\\AustriaHugeClip_0_31.tif\n",
      "La imagen contiene data tiles3\\AustriaHugeClip_0_32.tif\n",
      "La imagen contiene data tiles3\\AustriaHugeClip_0_33.tif\n",
      "La imagen contiene data tiles3\\AustriaHugeClip_0_34.tif\n",
      "La imagen contiene data tiles3\\AustriaHugeClip_0_35.tif\n",
      "La imagen contiene data tiles3\\AustriaHugeClip_0_36.tif\n",
      "La imagen contiene data tiles3\\AustriaHugeClip_0_37.tif\n",
      "La imagen contiene data tiles3\\AustriaHugeClip_0_38.tif\n",
      "La imagen contiene data tiles3\\AustriaHugeClip_0_39.tif\n",
      "La imagen contiene data tiles3\\AustriaHugeClip_0_4.tif\n",
      "La imagen contiene data tiles3\\AustriaHugeClip_0_40.tif\n",
      "La imagen contiene data tiles3\\AustriaHugeClip_0_41.tif\n",
      "La imagen contiene data tiles3\\AustriaHugeClip_0_42.tif\n",
      "La imagen contiene data tiles3\\AustriaHugeClip_0_43.tif\n",
      "La imagen contiene data tiles3\\AustriaHugeClip_0_44.tif\n",
      "La imagen contiene data tiles3\\AustriaHugeClip_0_45.tif\n",
      "La imagen contiene data tiles3\\AustriaHugeClip_0_46.tif\n",
      "La imagen contiene data tiles3\\AustriaHugeClip_0_47.tif\n",
      "La imagen contiene data tiles3\\AustriaHugeClip_0_48.tif\n",
      "La imagen contiene data tiles3\\AustriaHugeClip_0_49.tif\n",
      "La imagen contiene data tiles3\\AustriaHugeClip_0_5.tif\n",
      "La imagen contiene data tiles3\\AustriaHugeClip_0_50.tif\n",
      "La imagen contiene data tiles3\\AustriaHugeClip_0_51.tif\n",
      "La imagen contiene data tiles3\\AustriaHugeClip_0_52.tif\n",
      "La imagen contiene data tiles3\\AustriaHugeClip_0_53.tif\n",
      "La imagen contiene data tiles3\\AustriaHugeClip_0_54.tif\n",
      "La imagen contiene data tiles3\\AustriaHugeClip_0_6.tif\n",
      "La imagen contiene data tiles3\\AustriaHugeClip_0_7.tif\n",
      "La imagen contiene data tiles3\\AustriaHugeClip_0_8.tif\n",
      "La imagen contiene data tiles3\\AustriaHugeClip_0_9.tif\n"
     ]
    }
   ],
   "source": [
    "import os\n",
    "# assign directory\n",
    "directory = 'tiles3'\n",
    " \n",
    "# iterate over files in\n",
    "# that directory\n",
    "for filename in os.listdir(directory):\n",
    "    f = os.path.join(directory, filename)\n",
    "    # checking if it is a file\n",
    "    if os.path.isfile(f) and filename.endswith(\".tif\"):\n",
    "        im = Image.open(f) # Can be many different formats.\n",
    "        pix = im.load()\n",
    "        clrs = im.getcolors()\n",
    "        if(clrs != None):\n",
    "            print(\"BLANK, Deleting...\",f)\n",
    "            os.remove(f)\n",
    "        # else:\n",
    "        #      print(\"La imagen contiene data\",f)\n",
    "\n",
    "print(\"!Done...\")\n"
   ]
  }
 ],
 "metadata": {
  "kernelspec": {
   "display_name": "Python 3.10.5 64-bit",
   "language": "python",
   "name": "python3"
  },
  "language_info": {
   "codemirror_mode": {
    "name": "ipython",
    "version": 3
   },
   "file_extension": ".py",
   "mimetype": "text/x-python",
   "name": "python",
   "nbconvert_exporter": "python",
   "pygments_lexer": "ipython3",
   "version": "3.10.5"
  },
  "orig_nbformat": 4,
  "vscode": {
   "interpreter": {
    "hash": "a8a8520778ae12e6e551732bbfe0a0aa0901a0d542dc4b4ba408728575e4cd1b"
   }
  }
 },
 "nbformat": 4,
 "nbformat_minor": 2
}
